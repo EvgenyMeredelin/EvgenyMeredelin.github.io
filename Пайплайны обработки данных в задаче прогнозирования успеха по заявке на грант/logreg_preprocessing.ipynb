{
 "cells": [
  {
   "cell_type": "markdown",
   "metadata": {},
   "source": [
    "# <a id='toc1_'></a>[__Пайплайны обработки данных в задаче прогнозирования успеха по заявке на грант__](#toc0_)"
   ]
  },
  {
   "cell_type": "markdown",
   "metadata": {},
   "source": [
    "**Содержание**<a id='toc0_'></a>    \n",
    "- [__Пайплайны обработки данных в задаче прогнозирования успеха по заявке на грант__](#toc1_)    \n",
    "  - [__Теория и примеры__](#toc1_1_)    \n",
    "  - [__Импорты и настройки__](#toc1_2_)    \n",
    "  - [__Фабула__](#toc1_3_)    \n",
    "  - [__Обзор данных__](#toc1_4_)    \n",
    "  - [__Подготовка данных: резка на обучение и тест, выделение вещественных и категориальных признаков__](#toc1_5_)    \n",
    "  - [__Универсальная функция для различных сценариев обработки данных__](#toc1_6_)    \n",
    "  - [__Кодирование категориальных признаков__](#toc1_7_)    \n",
    "  - [__Заполнение пропущенных значений__](#toc1_8_)    \n",
    "  - [__Масштабирование вещественных признаков__](#toc1_9_)    \n",
    "  - [__Балансировка классов__](#toc1_10_)    \n",
    "  - [__Стратификация выборки__](#toc1_11_)    \n",
    "  - [__Полиномиальные признаки__](#toc1_12_)    \n",
    "\n",
    "<!-- vscode-jupyter-toc-config\n",
    "\tnumbering=false\n",
    "\tanchor=true\n",
    "\tflat=false\n",
    "\tminLevel=1\n",
    "\tmaxLevel=6\n",
    "\t/vscode-jupyter-toc-config -->\n",
    "<!-- THIS CELL WILL BE REPLACED ON TOC UPDATE. DO NOT WRITE YOUR TEXT IN THIS CELL -->"
   ]
  },
  {
   "cell_type": "markdown",
   "metadata": {},
   "source": [
    "***\n",
    "## <a id='toc1_1_'></a>[__Теория и примеры__](#toc0_)"
   ]
  },
  {
   "cell_type": "markdown",
   "metadata": {},
   "source": [
    "[__ml_logreg.ipynb__](https://github.com/EvgenyMeredelin/machine-learning-notes-and-codes/blob/main/ml_logreg/ml_logreg.ipynb)"
   ]
  },
  {
   "cell_type": "markdown",
   "metadata": {},
   "source": [
    "***\n",
    "## <a id='toc1_2_'></a>[__Импорты и настройки__](#toc0_)"
   ]
  },
  {
   "cell_type": "code",
   "execution_count": 1,
   "metadata": {},
   "outputs": [],
   "source": [
    "# стандартная библиотека\n",
    "import warnings\n",
    "warnings.filterwarnings('ignore')"
   ]
  },
  {
   "cell_type": "code",
   "execution_count": 2,
   "metadata": {},
   "outputs": [],
   "source": [
    "# сторонние библиотеки\n",
    "from sklearn.compose import ColumnTransformer\n",
    "from sklearn.impute import SimpleImputer\n",
    "from sklearn.linear_model import LogisticRegression\n",
    "from sklearn.metrics import roc_auc_score\n",
    "from sklearn.model_selection import GridSearchCV, train_test_split\n",
    "from sklearn.pipeline import Pipeline\n",
    "from sklearn.preprocessing import (\n",
    "    OneHotEncoder, PolynomialFeatures, StandardScaler\n",
    ")\n",
    "import numpy as np\n",
    "import pandas as pd"
   ]
  },
  {
   "cell_type": "markdown",
   "metadata": {},
   "source": [
    "***\n",
    "## <a id='toc1_3_'></a>[__Фабула__](#toc0_)"
   ]
  },
  {
   "cell_type": "markdown",
   "metadata": {},
   "source": [
    "В работе будут рассмотрены основные техники предобработки данных, применяемые для обучения модели логистической регрессии. По 38 признакам заявки на грант (область исследований, информация об академическом бэкграунде соискателей, размер гранта и т.д.) требуется предсказать, будет ли она одобрена. Датасет включает в себя информацию о 6 тыс. заявках на грант, поданные в университете Мельбурна в период 2004-2008 гг."
   ]
  },
  {
   "cell_type": "markdown",
   "metadata": {},
   "source": [
    "***\n",
    "## <a id='toc1_4_'></a>[__Обзор данных__](#toc0_)"
   ]
  },
  {
   "cell_type": "code",
   "execution_count": 3,
   "metadata": {},
   "outputs": [
    {
     "data": {
      "text/html": [
       "<div>\n",
       "<style scoped>\n",
       "    .dataframe tbody tr th:only-of-type {\n",
       "        vertical-align: middle;\n",
       "    }\n",
       "\n",
       "    .dataframe tbody tr th {\n",
       "        vertical-align: top;\n",
       "    }\n",
       "\n",
       "    .dataframe thead th {\n",
       "        text-align: right;\n",
       "    }\n",
       "</style>\n",
       "<table border=\"1\" class=\"dataframe\">\n",
       "  <thead>\n",
       "    <tr style=\"text-align: right;\">\n",
       "      <th></th>\n",
       "      <th>Grant.Status</th>\n",
       "      <th>Sponsor.Code</th>\n",
       "      <th>Grant.Category.Code</th>\n",
       "      <th>Contract.Value.Band...see.note.A</th>\n",
       "      <th>RFCD.Code.1</th>\n",
       "      <th>RFCD.Percentage.1</th>\n",
       "      <th>RFCD.Code.2</th>\n",
       "      <th>RFCD.Percentage.2</th>\n",
       "      <th>RFCD.Code.3</th>\n",
       "      <th>RFCD.Percentage.3</th>\n",
       "      <th>...</th>\n",
       "      <th>Dept.No..1</th>\n",
       "      <th>Faculty.No..1</th>\n",
       "      <th>With.PHD.1</th>\n",
       "      <th>No..of.Years.in.Uni.at.Time.of.Grant.1</th>\n",
       "      <th>Number.of.Successful.Grant.1</th>\n",
       "      <th>Number.of.Unsuccessful.Grant.1</th>\n",
       "      <th>A..1</th>\n",
       "      <th>A.1</th>\n",
       "      <th>B.1</th>\n",
       "      <th>C.1</th>\n",
       "    </tr>\n",
       "  </thead>\n",
       "  <tbody>\n",
       "    <tr>\n",
       "      <th>0</th>\n",
       "      <td>1</td>\n",
       "      <td>21A</td>\n",
       "      <td>50A</td>\n",
       "      <td>A</td>\n",
       "      <td>230202.0</td>\n",
       "      <td>50.0</td>\n",
       "      <td>230203.0</td>\n",
       "      <td>30.0</td>\n",
       "      <td>230204.0</td>\n",
       "      <td>20.0</td>\n",
       "      <td>...</td>\n",
       "      <td>3098.0</td>\n",
       "      <td>31.0</td>\n",
       "      <td>Yes</td>\n",
       "      <td>&gt;=0 to 5</td>\n",
       "      <td>2.0</td>\n",
       "      <td>0.0</td>\n",
       "      <td>0.0</td>\n",
       "      <td>4.0</td>\n",
       "      <td>2.0</td>\n",
       "      <td>0.0</td>\n",
       "    </tr>\n",
       "    <tr>\n",
       "      <th>1</th>\n",
       "      <td>1</td>\n",
       "      <td>4D</td>\n",
       "      <td>10A</td>\n",
       "      <td>D</td>\n",
       "      <td>320801.0</td>\n",
       "      <td>100.0</td>\n",
       "      <td>0.0</td>\n",
       "      <td>0.0</td>\n",
       "      <td>0.0</td>\n",
       "      <td>0.0</td>\n",
       "      <td>...</td>\n",
       "      <td>2553.0</td>\n",
       "      <td>25.0</td>\n",
       "      <td>Yes</td>\n",
       "      <td>&gt;=0 to 5</td>\n",
       "      <td>3.0</td>\n",
       "      <td>1.0</td>\n",
       "      <td>0.0</td>\n",
       "      <td>2.0</td>\n",
       "      <td>0.0</td>\n",
       "      <td>0.0</td>\n",
       "    </tr>\n",
       "    <tr>\n",
       "      <th>2</th>\n",
       "      <td>0</td>\n",
       "      <td>NaN</td>\n",
       "      <td>NaN</td>\n",
       "      <td>NaN</td>\n",
       "      <td>320602.0</td>\n",
       "      <td>50.0</td>\n",
       "      <td>321004.0</td>\n",
       "      <td>30.0</td>\n",
       "      <td>321015.0</td>\n",
       "      <td>20.0</td>\n",
       "      <td>...</td>\n",
       "      <td>2813.0</td>\n",
       "      <td>25.0</td>\n",
       "      <td>NaN</td>\n",
       "      <td>Less than 0</td>\n",
       "      <td>1.0</td>\n",
       "      <td>5.0</td>\n",
       "      <td>0.0</td>\n",
       "      <td>7.0</td>\n",
       "      <td>2.0</td>\n",
       "      <td>0.0</td>\n",
       "    </tr>\n",
       "    <tr>\n",
       "      <th>3</th>\n",
       "      <td>0</td>\n",
       "      <td>51C</td>\n",
       "      <td>20C</td>\n",
       "      <td>A</td>\n",
       "      <td>291503.0</td>\n",
       "      <td>60.0</td>\n",
       "      <td>321402.0</td>\n",
       "      <td>40.0</td>\n",
       "      <td>0.0</td>\n",
       "      <td>0.0</td>\n",
       "      <td>...</td>\n",
       "      <td>2553.0</td>\n",
       "      <td>25.0</td>\n",
       "      <td>NaN</td>\n",
       "      <td>more than 15</td>\n",
       "      <td>2.0</td>\n",
       "      <td>1.0</td>\n",
       "      <td>5.0</td>\n",
       "      <td>6.0</td>\n",
       "      <td>9.0</td>\n",
       "      <td>1.0</td>\n",
       "    </tr>\n",
       "    <tr>\n",
       "      <th>4</th>\n",
       "      <td>0</td>\n",
       "      <td>24D</td>\n",
       "      <td>30B</td>\n",
       "      <td>NaN</td>\n",
       "      <td>380107.0</td>\n",
       "      <td>100.0</td>\n",
       "      <td>0.0</td>\n",
       "      <td>0.0</td>\n",
       "      <td>0.0</td>\n",
       "      <td>0.0</td>\n",
       "      <td>...</td>\n",
       "      <td>2923.0</td>\n",
       "      <td>25.0</td>\n",
       "      <td>NaN</td>\n",
       "      <td>Less than 0</td>\n",
       "      <td>0.0</td>\n",
       "      <td>2.0</td>\n",
       "      <td>0.0</td>\n",
       "      <td>0.0</td>\n",
       "      <td>0.0</td>\n",
       "      <td>0.0</td>\n",
       "    </tr>\n",
       "  </tbody>\n",
       "</table>\n",
       "<p>5 rows × 39 columns</p>\n",
       "</div>"
      ],
      "text/plain": [
       "   Grant.Status Sponsor.Code Grant.Category.Code  \\\n",
       "0             1          21A                 50A   \n",
       "1             1           4D                 10A   \n",
       "2             0          NaN                 NaN   \n",
       "3             0          51C                 20C   \n",
       "4             0          24D                 30B   \n",
       "\n",
       "  Contract.Value.Band...see.note.A  RFCD.Code.1  RFCD.Percentage.1  \\\n",
       "0                               A      230202.0               50.0   \n",
       "1                               D      320801.0              100.0   \n",
       "2                              NaN     320602.0               50.0   \n",
       "3                               A      291503.0               60.0   \n",
       "4                              NaN     380107.0              100.0   \n",
       "\n",
       "   RFCD.Code.2  RFCD.Percentage.2  RFCD.Code.3  RFCD.Percentage.3  ...  \\\n",
       "0     230203.0               30.0     230204.0               20.0  ...   \n",
       "1          0.0                0.0          0.0                0.0  ...   \n",
       "2     321004.0               30.0     321015.0               20.0  ...   \n",
       "3     321402.0               40.0          0.0                0.0  ...   \n",
       "4          0.0                0.0          0.0                0.0  ...   \n",
       "\n",
       "   Dept.No..1  Faculty.No..1  With.PHD.1  \\\n",
       "0      3098.0           31.0        Yes    \n",
       "1      2553.0           25.0        Yes    \n",
       "2      2813.0           25.0         NaN   \n",
       "3      2553.0           25.0         NaN   \n",
       "4      2923.0           25.0         NaN   \n",
       "\n",
       "   No..of.Years.in.Uni.at.Time.of.Grant.1  Number.of.Successful.Grant.1  \\\n",
       "0                                >=0 to 5                           2.0   \n",
       "1                                >=0 to 5                           3.0   \n",
       "2                             Less than 0                           1.0   \n",
       "3                            more than 15                           2.0   \n",
       "4                             Less than 0                           0.0   \n",
       "\n",
       "   Number.of.Unsuccessful.Grant.1  A..1  A.1  B.1  C.1  \n",
       "0                             0.0   0.0  4.0  2.0  0.0  \n",
       "1                             1.0   0.0  2.0  0.0  0.0  \n",
       "2                             5.0   0.0  7.0  2.0  0.0  \n",
       "3                             1.0   5.0  6.0  9.0  1.0  \n",
       "4                             2.0   0.0  0.0  0.0  0.0  \n",
       "\n",
       "[5 rows x 39 columns]"
      ]
     },
     "execution_count": 3,
     "metadata": {},
     "output_type": "execute_result"
    }
   ],
   "source": [
    "# первые пять строк датасета\n",
    "df = pd.read_csv('unimelb.csv')\n",
    "df.head()"
   ]
  },
  {
   "cell_type": "code",
   "execution_count": 4,
   "metadata": {},
   "outputs": [
    {
     "name": "stdout",
     "output_type": "stream",
     "text": [
      "<class 'pandas.core.frame.DataFrame'>\n",
      "RangeIndex: 6000 entries, 0 to 5999\n",
      "Data columns (total 39 columns):\n",
      " #   Column                                  Non-Null Count  Dtype  \n",
      "---  ------                                  --------------  -----  \n",
      " 0   Grant.Status                            6000 non-null   int64  \n",
      " 1   Sponsor.Code                            5387 non-null   object \n",
      " 2   Grant.Category.Code                     5387 non-null   object \n",
      " 3   Contract.Value.Band...see.note.A        3539 non-null   object \n",
      " 4   RFCD.Code.1                             5583 non-null   float64\n",
      " 5   RFCD.Percentage.1                       5583 non-null   float64\n",
      " 6   RFCD.Code.2                             5583 non-null   float64\n",
      " 7   RFCD.Percentage.2                       5583 non-null   float64\n",
      " 8   RFCD.Code.3                             5583 non-null   float64\n",
      " 9   RFCD.Percentage.3                       5583 non-null   float64\n",
      " 10  RFCD.Code.4                             5583 non-null   float64\n",
      " 11  RFCD.Percentage.4                       5583 non-null   float64\n",
      " 12  RFCD.Code.5                             5583 non-null   float64\n",
      " 13  RFCD.Percentage.5                       5583 non-null   float64\n",
      " 14  SEO.Code.1                              5561 non-null   float64\n",
      " 15  SEO.Percentage.1                        5561 non-null   float64\n",
      " 16  SEO.Code.2                              5561 non-null   float64\n",
      " 17  SEO.Percentage.2                        5561 non-null   float64\n",
      " 18  SEO.Code.3                              5561 non-null   float64\n",
      " 19  SEO.Percentage.3                        5561 non-null   float64\n",
      " 20  SEO.Code.4                              5561 non-null   float64\n",
      " 21  SEO.Percentage.4                        5561 non-null   float64\n",
      " 22  SEO.Code.5                              5561 non-null   float64\n",
      " 23  SEO.Percentage.5                        5561 non-null   float64\n",
      " 24  Person.ID.1                             5634 non-null   float64\n",
      " 25  Role.1                                  5930 non-null   object \n",
      " 26  Year.of.Birth.1                         5633 non-null   float64\n",
      " 27  Country.of.Birth.1                      5096 non-null   object \n",
      " 28  Home.Language.1                         556 non-null    object \n",
      " 29  Dept.No..1                              5392 non-null   float64\n",
      " 30  Faculty.No..1                           5389 non-null   float64\n",
      " 31  With.PHD.1                              3504 non-null   object \n",
      " 32  No..of.Years.in.Uni.at.Time.of.Grant.1  4950 non-null   object \n",
      " 33  Number.of.Successful.Grant.1            5634 non-null   float64\n",
      " 34  Number.of.Unsuccessful.Grant.1          5634 non-null   float64\n",
      " 35  A..1                                    5634 non-null   float64\n",
      " 36  A.1                                     5634 non-null   float64\n",
      " 37  B.1                                     5634 non-null   float64\n",
      " 38  C.1                                     5634 non-null   float64\n",
      "dtypes: float64(30), int64(1), object(8)\n",
      "memory usage: 1.8+ MB\n"
     ]
    }
   ],
   "source": [
    "# полнота данных и типы данных\n",
    "df.info()"
   ]
  },
  {
   "cell_type": "markdown",
   "metadata": {},
   "source": [
    "***\n",
    "## <a id='toc1_5_'></a>[__Подготовка данных: резка на обучение и тест, выделение вещественных и категориальных признаков__](#toc0_)"
   ]
  },
  {
   "cell_type": "code",
   "execution_count": 5,
   "metadata": {},
   "outputs": [],
   "source": [
    "X = df.drop(columns='Grant.Status')\n",
    "y = df['Grant.Status']  # целевая переменная\n",
    "\n",
    "X_train, X_test, y_train, y_test = train_test_split(\n",
    "    X, y, test_size=0.3, random_state=0\n",
    ")"
   ]
  },
  {
   "cell_type": "code",
   "execution_count": 6,
   "metadata": {},
   "outputs": [],
   "source": [
    "# вещественные признаки\n",
    "num_features = [\n",
    "    'RFCD.Percentage.1', 'RFCD.Percentage.2', 'RFCD.Percentage.3', \n",
    "    'RFCD.Percentage.4', 'RFCD.Percentage.5',\n",
    "    'SEO.Percentage.1', 'SEO.Percentage.2', 'SEO.Percentage.3',\n",
    "    'SEO.Percentage.4', 'SEO.Percentage.5', 'Year.of.Birth.1', \n",
    "    'Number.of.Successful.Grant.1', 'Number.of.Unsuccessful.Grant.1'\n",
    "]\n",
    "\n",
    "# категориальные признаки\n",
    "cat_features = list(set(X.columns) - set(num_features))"
   ]
  },
  {
   "cell_type": "markdown",
   "metadata": {},
   "source": [
    "***\n",
    "## <a id='toc1_6_'></a>[__Универсальная функция для различных сценариев обработки данных__](#toc0_)"
   ]
  },
  {
   "cell_type": "markdown",
   "metadata": {},
   "source": [
    "Из свойств логистической модели следует, что:\n",
    "* все предикторы должны быть числовыми, а в случае присутствия среди них категориальных их требуется некоторым способом преобразовать в вещественные числа;\n",
    "* у предикторов не должно быть пропущенных значений, т.е. все пропущенные значения перед применением модели следует каким-то образом заполнить.\n",
    "\n",
    "Поэтому базовым этапом в предобработке любого датасета для логистической регрессии будет кодирование категориальных признаков и удаление или интерпретация пропущенных значений (при наличии)."
   ]
  },
  {
   "cell_type": "markdown",
   "metadata": {},
   "source": [
    "Сразу напишем универсальную функцию, которая реализует различные сценарии обработки данных, включая:\n",
    "* заполнение пропущенных значений с возможностью выбора стратегии заполнения;\n",
    "\n",
    "[__sklearn.impute.SimpleImputer__](https://scikit-learn.org/stable/modules/generated/sklearn.impute.SimpleImputer.html#sklearn-impute-simpleimputer)\n",
    "\n",
    "> Univariate imputer for completing missing values with simple strategies.<br>\n",
    "Replace missing values using a descriptive statistic (e.g. mean, median, or most frequent) along each column, or using a constant value. When `strategy` is \"constant\" and `fill_value` is None, `fill_value` will be 0 when imputing numerical data. \n",
    "\n",
    "* опцию добавления дополнительной обработки числовых признаков — например, масштабирования;\n",
    "\n",
    "[__sklearn.preprocessing.StandardScaler__](https://scikit-learn.org/stable/modules/generated/sklearn.preprocessing.StandardScaler.html#sklearn-preprocessing-standardscaler)\n",
    "\n",
    "> Standardize features by removing the mean and scaling to unit variance.\n",
    "\n",
    "[__sklearn.preprocessing.PolynomialFeatures__](https://scikit-learn.org/stable/modules/generated/sklearn.preprocessing.PolynomialFeatures.html#sklearn-preprocessing-polynomialfeatures)\n",
    "\n",
    "> Generate polynomial and interaction features.\n",
    "\n",
    "* кодирование категориальных признаков;\n",
    "\n",
    "[__sklearn.preprocessing.OneHotEncoder__](https://scikit-learn.org/stable/modules/generated/sklearn.preprocessing.OneHotEncoder.html#sklearn-preprocessing-onehotencoder)\n",
    "\n",
    "> Encode categorical features as a one-hot numeric array.\n",
    "\n",
    "* инициализацию классификатора заданными параметрами;\n",
    "\n",
    "[__sklearn.linear_model.LogisticRegression__](https://scikit-learn.org/stable/modules/generated/sklearn.linear_model.LogisticRegression.html#sklearn-linear-model-logisticregression)\n",
    "\n",
    "> Logistic Regression (aka logit, MaxEnt) classifier.\n",
    "\n",
    "* оборачивание перечисленных выше шагов в пайплайн обработки;\n",
    "\n",
    "[__sklearn.pipeline.Pipeline__](https://scikit-learn.org/stable/modules/generated/sklearn.pipeline.Pipeline.html#sklearn-pipeline-pipeline)\n",
    "\n",
    "> Pipeline of transforms with a final estimator.\n",
    "\n",
    "* поиск лучшей модели на кросс-валидации с перебором параметра регуляризации $C$ модели sklearn.linear_model.LogisticRegression;\n",
    "\n",
    "[__sklearn.model_selection.GridSearchCV__](https://scikit-learn.org/stable/modules/generated/sklearn.model_selection.GridSearchCV.html#sklearn-model-selection-gridsearchcv)\n",
    "\n",
    "> Exhaustive search over specified parameter values for an estimator.\n",
    "\n",
    "* для лучшей модели расчет метрики ROC AUC на тестовой выборке.\n",
    "\n",
    "[__sklearn.metrics.roc_auc_score__](https://scikit-learn.org/stable/modules/generated/sklearn.metrics.roc_auc_score.html#sklearn-metrics-roc-auc-score)\n",
    "\n",
    "> Compute Area Under the Receiver Operating Characteristic Curve (ROC AUC) from prediction scores."
   ]
  },
  {
   "cell_type": "markdown",
   "metadata": {},
   "source": [
    "[__Column Transformer with Mixed Types__](https://scikit-learn.org/stable/auto_examples/compose/plot_column_transformer_mixed_types.html#column-transformer-with-mixed-types)"
   ]
  },
  {
   "cell_type": "code",
   "execution_count": 7,
   "metadata": {},
   "outputs": [],
   "source": [
    "def grid_search(strategy, extra_num_transformers=None, **clf_kwargs):\n",
    "    \"\"\"\n",
    "    Универсальная функция для различных сценариев обработки данных.\n",
    "    \"\"\"\n",
    "    num_transformer = Pipeline(  # пайплайн с вакантными слотами\n",
    "        [('imputer', SimpleImputer(strategy=strategy))]\n",
    "        + (extra_num_transformers or [])\n",
    "    )\n",
    "    preprocessor = ColumnTransformer([\n",
    "        ('imputer_and_optional_extra', num_transformer, num_features),\n",
    "        ('ohe', OneHotEncoder(handle_unknown='ignore'), cat_features)\n",
    "    ])\n",
    "    steps = [\n",
    "        ('preprocessor', preprocessor),\n",
    "        ('classifier', LogisticRegression(**clf_kwargs))\n",
    "    ]\n",
    "    search = GridSearchCV(\n",
    "        Pipeline(steps),  # итоговый пайплайн с классификатором\n",
    "        param_grid={'classifier__C': [0.01, 0.05, 0.1, 0.5, 1, 5, 10]},\n",
    "        cv=3,\n",
    "        scoring='precision'\n",
    "    )\n",
    "    search.fit(X_train, y_train)\n",
    "    y_pred = search.best_estimator_.predict_proba(X_test)[:,1]\n",
    "    return roc_auc_score(y_test, y_pred)"
   ]
  },
  {
   "cell_type": "markdown",
   "metadata": {},
   "source": [
    "***\n",
    "## <a id='toc1_7_'></a>[__Кодирование категориальных признаков__](#toc0_)"
   ]
  },
  {
   "cell_type": "markdown",
   "metadata": {},
   "source": [
    "Обязательный шаг, работает всегда."
   ]
  },
  {
   "cell_type": "markdown",
   "metadata": {},
   "source": [
    "***\n",
    "## <a id='toc1_8_'></a>[__Заполнение пропущенных значений__](#toc0_)"
   ]
  },
  {
   "cell_type": "markdown",
   "metadata": {},
   "source": [
    "Посчитаем ROC AUC для двух стратегий заполнения пропущенных значений: \n",
    "* заполнение средним значением признака (средним по столбцу), заполнение нулями."
   ]
  },
  {
   "cell_type": "code",
   "execution_count": 8,
   "metadata": {},
   "outputs": [
    {
     "data": {
      "text/plain": [
       "[0.8854700421084674, 0.8842957566098414]"
      ]
     },
     "execution_count": 8,
     "metadata": {},
     "output_type": "execute_result"
    }
   ],
   "source": [
    "clf_kwargs = dict(solver='liblinear')\n",
    "scores = [grid_search(strategy, **clf_kwargs) for strategy in ('mean', 'constant')]\n",
    "scores"
   ]
  },
  {
   "cell_type": "markdown",
   "metadata": {},
   "source": [
    "***\n",
    "## <a id='toc1_9_'></a>[__Масштабирование вещественных признаков__](#toc0_)"
   ]
  },
  {
   "cell_type": "markdown",
   "metadata": {},
   "source": [
    "* заполнение пропусков нулями\n",
    "* масштабирование вещественных признаков"
   ]
  },
  {
   "cell_type": "code",
   "execution_count": 9,
   "metadata": {},
   "outputs": [
    {
     "data": {
      "text/plain": [
       "0.885044379082622"
      ]
     },
     "execution_count": 9,
     "metadata": {},
     "output_type": "execute_result"
    }
   ],
   "source": [
    "grid_search(\n",
    "    strategy='constant', \n",
    "    extra_num_transformers=[('scaler', StandardScaler())],\n",
    "    **clf_kwargs\n",
    ")"
   ]
  },
  {
   "cell_type": "markdown",
   "metadata": {},
   "source": [
    "***\n",
    "## <a id='toc1_10_'></a>[__Балансировка классов__](#toc0_)"
   ]
  },
  {
   "cell_type": "markdown",
   "metadata": {},
   "source": [
    "[__class_weight__](https://scikit-learn.org/stable/modules/generated/sklearn.linear_model.LogisticRegression.html#sklearn-linear-model-logisticregression)\n",
    "\n",
    "> The \"balanced\" mode uses the values of `y` to automatically adjust weights inversely proportional to class frequencies in the input data."
   ]
  },
  {
   "cell_type": "markdown",
   "metadata": {},
   "source": [
    "* заполнение пропусков нулями\n",
    "* масштабирование вещественных признаков\n",
    "* балансировка классов"
   ]
  },
  {
   "cell_type": "code",
   "execution_count": 10,
   "metadata": {},
   "outputs": [
    {
     "data": {
      "text/plain": [
       "0.887009358399606"
      ]
     },
     "execution_count": 10,
     "metadata": {},
     "output_type": "execute_result"
    }
   ],
   "source": [
    "clf_kwargs['class_weight'] = 'balanced'\n",
    "\n",
    "grid_search(\n",
    "    strategy='constant', \n",
    "    extra_num_transformers=[('scaler', StandardScaler())],\n",
    "    **clf_kwargs\n",
    ")"
   ]
  },
  {
   "cell_type": "markdown",
   "metadata": {},
   "source": [
    "***\n",
    "## <a id='toc1_11_'></a>[__Стратификация выборки__](#toc0_)"
   ]
  },
  {
   "cell_type": "markdown",
   "metadata": {},
   "source": [
    "[__stratify__](https://scikit-learn.org/stable/modules/generated/sklearn.model_selection.train_test_split.html#sklearn-model-selection-train-test-split)\n",
    "\n",
    "> If not None, data is split in a stratified fashion, using this as the class labels."
   ]
  },
  {
   "cell_type": "markdown",
   "metadata": {},
   "source": [
    "* стратификация `X` при разделении на обучение и тест (примерное сохранение в обучении и тесте исходного соотношения классов)\n",
    "* заполнение пропусков нулями\n",
    "* масштабирование вещественных признаков"
   ]
  },
  {
   "cell_type": "code",
   "execution_count": 11,
   "metadata": {},
   "outputs": [
    {
     "data": {
      "text/plain": [
       "0.8751318545718707"
      ]
     },
     "execution_count": 11,
     "metadata": {},
     "output_type": "execute_result"
    }
   ],
   "source": [
    "X_train, X_test, y_train, y_test = train_test_split(\n",
    "    X, y, test_size=0.3, random_state=0, stratify=y\n",
    ")\n",
    "\n",
    "grid_search(\n",
    "    strategy='constant', \n",
    "    extra_num_transformers=[('scaler', StandardScaler())],\n",
    "    **clf_kwargs\n",
    ")"
   ]
  },
  {
   "cell_type": "markdown",
   "metadata": {},
   "source": [
    "***\n",
    "## <a id='toc1_12_'></a>[__Полиномиальные признаки__](#toc0_)"
   ]
  },
  {
   "cell_type": "markdown",
   "metadata": {},
   "source": [
    "* стратификация `X` при разделении на обучение и тест (примерное сохранение в обучении и тесте исходного соотношения классов)\n",
    "* заполнение пропусков нулями\n",
    "* добавление в `X` полиномиальных признаков\n",
    "* масштабирование вещественных признаков"
   ]
  },
  {
   "cell_type": "code",
   "execution_count": 12,
   "metadata": {},
   "outputs": [
    {
     "data": {
      "text/plain": [
       "0.8869913025739007"
      ]
     },
     "execution_count": 12,
     "metadata": {},
     "output_type": "execute_result"
    }
   ],
   "source": [
    "clf_kwargs['fit_intercept'] = False\n",
    "\n",
    "grid_search(\n",
    "    strategy='constant', \n",
    "    extra_num_transformers=[\n",
    "        ('poly', PolynomialFeatures()),\n",
    "        ('scaler', StandardScaler())\n",
    "    ],\n",
    "    **clf_kwargs\n",
    ")"
   ]
  },
  {
   "cell_type": "markdown",
   "metadata": {},
   "source": [
    "***"
   ]
  }
 ],
 "metadata": {
  "kernelspec": {
   "display_name": "Python 3",
   "language": "python",
   "name": "python3"
  },
  "language_info": {
   "codemirror_mode": {
    "name": "ipython",
    "version": 3
   },
   "file_extension": ".py",
   "mimetype": "text/x-python",
   "name": "python",
   "nbconvert_exporter": "python",
   "pygments_lexer": "ipython3",
   "version": "3.11.4"
  },
  "orig_nbformat": 4
 },
 "nbformat": 4,
 "nbformat_minor": 2
}

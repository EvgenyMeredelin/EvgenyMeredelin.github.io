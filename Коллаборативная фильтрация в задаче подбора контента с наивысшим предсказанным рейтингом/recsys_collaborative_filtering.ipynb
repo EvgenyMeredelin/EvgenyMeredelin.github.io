{
 "cells": [
  {
   "cell_type": "markdown",
   "metadata": {},
   "source": [
    "# <a id='toc1_'></a>[__Коллаборативная фильтрация в задаче подбора контента с наивысшим предсказанным рейтингом__](#toc0_)"
   ]
  },
  {
   "cell_type": "markdown",
   "metadata": {},
   "source": [
    "**Содержание**<a id='toc0_'></a>    \n",
    "- [__Коллаборативная фильтрация в задаче подбора контента с наивысшим предсказанным рейтингом__](#toc1_)    \n",
    "  - [__Импорты и настройки__](#toc1_1_)    \n",
    "  - [__Обзор данных__](#toc1_2_)    \n",
    "  - [__Кодирование фильмов и зрителей__](#toc1_3_)    \n",
    "  - [__Матрица рейтингов__](#toc1_4_)    \n",
    "  - [__Похожесть между зрителями__](#toc1_5_)    \n",
    "  - [__Рекомендация фильмов с наивысшим предсказанным рейтингом__](#toc1_6_)    \n",
    "\n",
    "<!-- vscode-jupyter-toc-config\n",
    "\tnumbering=false\n",
    "\tanchor=true\n",
    "\tflat=false\n",
    "\tminLevel=1\n",
    "\tmaxLevel=6\n",
    "\t/vscode-jupyter-toc-config -->\n",
    "<!-- THIS CELL WILL BE REPLACED ON TOC UPDATE. DO NOT WRITE YOUR TEXT IN THIS CELL -->"
   ]
  },
  {
   "cell_type": "markdown",
   "metadata": {},
   "source": [
    "***\n",
    "## <a id='toc1_1_'></a>[__Импорты и настройки__](#toc0_)"
   ]
  },
  {
   "cell_type": "code",
   "execution_count": 1,
   "metadata": {},
   "outputs": [],
   "source": [
    "# стандартная библиотека\n",
    "import warnings\n",
    "warnings.filterwarnings('ignore')"
   ]
  },
  {
   "cell_type": "code",
   "execution_count": 2,
   "metadata": {},
   "outputs": [],
   "source": [
    "# сторонние библиотеки\n",
    "from scipy.sparse import coo_matrix, csr_matrix\n",
    "from sklearn.metrics.pairwise import cosine_similarity\n",
    "from sklearn.preprocessing import LabelEncoder\n",
    "import numpy as np\n",
    "import pandas as pd"
   ]
  },
  {
   "cell_type": "markdown",
   "metadata": {},
   "source": [
    "***\n",
    "## <a id='toc1_2_'></a>[__Обзор данных__](#toc0_)"
   ]
  },
  {
   "cell_type": "code",
   "execution_count": null,
   "metadata": {},
   "outputs": [],
   "source": [
    "# data: https://disk.yandex.com/d/UNLSl8H9Lc0aPw"
   ]
  },
  {
   "cell_type": "code",
   "execution_count": 3,
   "metadata": {},
   "outputs": [
    {
     "data": {
      "text/html": [
       "<div>\n",
       "<style scoped>\n",
       "    .dataframe tbody tr th:only-of-type {\n",
       "        vertical-align: middle;\n",
       "    }\n",
       "\n",
       "    .dataframe tbody tr th {\n",
       "        vertical-align: top;\n",
       "    }\n",
       "\n",
       "    .dataframe thead th {\n",
       "        text-align: right;\n",
       "    }\n",
       "</style>\n",
       "<table border=\"1\" class=\"dataframe\">\n",
       "  <thead>\n",
       "    <tr style=\"text-align: right;\">\n",
       "      <th></th>\n",
       "      <th>userID</th>\n",
       "      <th>movieID</th>\n",
       "      <th>rating</th>\n",
       "      <th>date_day</th>\n",
       "      <th>date_month</th>\n",
       "      <th>date_year</th>\n",
       "      <th>date_hour</th>\n",
       "      <th>date_minute</th>\n",
       "      <th>date_second</th>\n",
       "    </tr>\n",
       "  </thead>\n",
       "  <tbody>\n",
       "    <tr>\n",
       "      <th>770268</th>\n",
       "      <td>64540</td>\n",
       "      <td>6724</td>\n",
       "      <td>3.5</td>\n",
       "      <td>4</td>\n",
       "      <td>1</td>\n",
       "      <td>2004</td>\n",
       "      <td>4</td>\n",
       "      <td>37</td>\n",
       "      <td>28</td>\n",
       "    </tr>\n",
       "    <tr>\n",
       "      <th>607119</th>\n",
       "      <td>49582</td>\n",
       "      <td>5151</td>\n",
       "      <td>2.0</td>\n",
       "      <td>24</td>\n",
       "      <td>7</td>\n",
       "      <td>2007</td>\n",
       "      <td>20</td>\n",
       "      <td>2</td>\n",
       "      <td>31</td>\n",
       "    </tr>\n",
       "    <tr>\n",
       "      <th>308226</th>\n",
       "      <td>25248</td>\n",
       "      <td>368</td>\n",
       "      <td>2.0</td>\n",
       "      <td>16</td>\n",
       "      <td>3</td>\n",
       "      <td>2006</td>\n",
       "      <td>22</td>\n",
       "      <td>16</td>\n",
       "      <td>23</td>\n",
       "    </tr>\n",
       "    <tr>\n",
       "      <th>250358</th>\n",
       "      <td>20812</td>\n",
       "      <td>2706</td>\n",
       "      <td>4.0</td>\n",
       "      <td>29</td>\n",
       "      <td>9</td>\n",
       "      <td>2002</td>\n",
       "      <td>8</td>\n",
       "      <td>22</td>\n",
       "      <td>34</td>\n",
       "    </tr>\n",
       "    <tr>\n",
       "      <th>325198</th>\n",
       "      <td>26617</td>\n",
       "      <td>435</td>\n",
       "      <td>0.5</td>\n",
       "      <td>16</td>\n",
       "      <td>2</td>\n",
       "      <td>2007</td>\n",
       "      <td>19</td>\n",
       "      <td>59</td>\n",
       "      <td>30</td>\n",
       "    </tr>\n",
       "  </tbody>\n",
       "</table>\n",
       "</div>"
      ],
      "text/plain": [
       "        userID  movieID  rating  date_day  date_month  date_year  date_hour  \\\n",
       "770268   64540     6724     3.5         4           1       2004          4   \n",
       "607119   49582     5151     2.0        24           7       2007         20   \n",
       "308226   25248      368     2.0        16           3       2006         22   \n",
       "250358   20812     2706     4.0        29           9       2002          8   \n",
       "325198   26617      435     0.5        16           2       2007         19   \n",
       "\n",
       "        date_minute  date_second  \n",
       "770268           37           28  \n",
       "607119            2           31  \n",
       "308226           16           23  \n",
       "250358           22           34  \n",
       "325198           59           30  "
      ]
     },
     "execution_count": 3,
     "metadata": {},
     "output_type": "execute_result"
    }
   ],
   "source": [
    "# таблица оценок, выставленных пользователями фильмам\n",
    "rates = pd.read_csv('data/user_ratedmovies.dat', sep='\\t')\n",
    "rates.sample(5)  # случайная выборка из 5 записей (разметок)"
   ]
  },
  {
   "cell_type": "code",
   "execution_count": 4,
   "metadata": {},
   "outputs": [
    {
     "data": {
      "text/html": [
       "<div>\n",
       "<style scoped>\n",
       "    .dataframe tbody tr th:only-of-type {\n",
       "        vertical-align: middle;\n",
       "    }\n",
       "\n",
       "    .dataframe tbody tr th {\n",
       "        vertical-align: top;\n",
       "    }\n",
       "\n",
       "    .dataframe thead th {\n",
       "        text-align: right;\n",
       "    }\n",
       "</style>\n",
       "<table border=\"1\" class=\"dataframe\">\n",
       "  <thead>\n",
       "    <tr style=\"text-align: right;\">\n",
       "      <th></th>\n",
       "      <th>id</th>\n",
       "      <th>title</th>\n",
       "      <th>imdbID</th>\n",
       "      <th>spanishTitle</th>\n",
       "      <th>imdbPictureURL</th>\n",
       "      <th>year</th>\n",
       "      <th>rtID</th>\n",
       "      <th>rtAllCriticsRating</th>\n",
       "      <th>rtAllCriticsNumReviews</th>\n",
       "      <th>rtAllCriticsNumFresh</th>\n",
       "      <th>...</th>\n",
       "      <th>rtAllCriticsScore</th>\n",
       "      <th>rtTopCriticsRating</th>\n",
       "      <th>rtTopCriticsNumReviews</th>\n",
       "      <th>rtTopCriticsNumFresh</th>\n",
       "      <th>rtTopCriticsNumRotten</th>\n",
       "      <th>rtTopCriticsScore</th>\n",
       "      <th>rtAudienceRating</th>\n",
       "      <th>rtAudienceNumRatings</th>\n",
       "      <th>rtAudienceScore</th>\n",
       "      <th>rtPictureURL</th>\n",
       "    </tr>\n",
       "  </thead>\n",
       "  <tbody>\n",
       "    <tr>\n",
       "      <th>9395</th>\n",
       "      <td>50800</td>\n",
       "      <td>The Messengers</td>\n",
       "      <td>425430</td>\n",
       "      <td>The Messengers</td>\n",
       "      <td>http://ia.media-imdb.com/images/M/MV5BMTMxMjMz...</td>\n",
       "      <td>2007</td>\n",
       "      <td>the_messengers</td>\n",
       "      <td>3.7</td>\n",
       "      <td>83</td>\n",
       "      <td>10</td>\n",
       "      <td>...</td>\n",
       "      <td>12</td>\n",
       "      <td>3.6</td>\n",
       "      <td>19</td>\n",
       "      <td>1</td>\n",
       "      <td>18</td>\n",
       "      <td>5</td>\n",
       "      <td>3.1</td>\n",
       "      <td>129304</td>\n",
       "      <td>48</td>\n",
       "      <td>http://content6.flixster.com/movie/10/89/27/10...</td>\n",
       "    </tr>\n",
       "    <tr>\n",
       "      <th>1333</th>\n",
       "      <td>1472</td>\n",
       "      <td>City of Industry</td>\n",
       "      <td>118859</td>\n",
       "      <td>Ajuste de cuentas</td>\n",
       "      <td>http://ia.media-imdb.com/images/M/MV5BMjA2MjI0...</td>\n",
       "      <td>1997</td>\n",
       "      <td>city_of_industry</td>\n",
       "      <td>5.2</td>\n",
       "      <td>13</td>\n",
       "      <td>6</td>\n",
       "      <td>...</td>\n",
       "      <td>46</td>\n",
       "      <td>4.7</td>\n",
       "      <td>6</td>\n",
       "      <td>1</td>\n",
       "      <td>5</td>\n",
       "      <td>16</td>\n",
       "      <td>2.9</td>\n",
       "      <td>791</td>\n",
       "      <td>31</td>\n",
       "      <td>http://content8.flixster.com/movie/27/54/27549...</td>\n",
       "    </tr>\n",
       "    <tr>\n",
       "      <th>6168</th>\n",
       "      <td>6543</td>\n",
       "      <td>The Holy Land</td>\n",
       "      <td>283387</td>\n",
       "      <td>The Holy Land</td>\n",
       "      <td>http://ia.media-imdb.com/images/M/MV5BMjE5NzMw...</td>\n",
       "      <td>2001</td>\n",
       "      <td>holy_land</td>\n",
       "      <td>5.8</td>\n",
       "      <td>54</td>\n",
       "      <td>28</td>\n",
       "      <td>...</td>\n",
       "      <td>51</td>\n",
       "      <td>5.8</td>\n",
       "      <td>19</td>\n",
       "      <td>10</td>\n",
       "      <td>9</td>\n",
       "      <td>52</td>\n",
       "      <td>3.6</td>\n",
       "      <td>173</td>\n",
       "      <td>68</td>\n",
       "      <td>http://content8.flixster.com/movie/10/88/43/10...</td>\n",
       "    </tr>\n",
       "    <tr>\n",
       "      <th>9</th>\n",
       "      <td>10</td>\n",
       "      <td>GoldenEye</td>\n",
       "      <td>113189</td>\n",
       "      <td>GoldenEye</td>\n",
       "      <td>http://ia.media-imdb.com/images/M/MV5BNTE1OTEx...</td>\n",
       "      <td>1995</td>\n",
       "      <td>goldeneye</td>\n",
       "      <td>6.8</td>\n",
       "      <td>41</td>\n",
       "      <td>33</td>\n",
       "      <td>...</td>\n",
       "      <td>80</td>\n",
       "      <td>6.2</td>\n",
       "      <td>11</td>\n",
       "      <td>7</td>\n",
       "      <td>4</td>\n",
       "      <td>63</td>\n",
       "      <td>3.4</td>\n",
       "      <td>28260</td>\n",
       "      <td>78</td>\n",
       "      <td>http://content9.flixster.com/movie/26/66/26669...</td>\n",
       "    </tr>\n",
       "    <tr>\n",
       "      <th>253</th>\n",
       "      <td>264</td>\n",
       "      <td>L'enfer</td>\n",
       "      <td>109731</td>\n",
       "      <td>El infierno (L'enfer)</td>\n",
       "      <td>http://ia.media-imdb.com/images/M/MV5BMTc2OTI1...</td>\n",
       "      <td>1994</td>\n",
       "      <td>1059177-lenfer</td>\n",
       "      <td>7.9</td>\n",
       "      <td>8</td>\n",
       "      <td>8</td>\n",
       "      <td>...</td>\n",
       "      <td>100</td>\n",
       "      <td>0</td>\n",
       "      <td>1</td>\n",
       "      <td>1</td>\n",
       "      <td>0</td>\n",
       "      <td>100</td>\n",
       "      <td>3.5</td>\n",
       "      <td>421</td>\n",
       "      <td>67</td>\n",
       "      <td>http://content8.flixster.com/movie/10/88/73/10...</td>\n",
       "    </tr>\n",
       "  </tbody>\n",
       "</table>\n",
       "<p>5 rows × 21 columns</p>\n",
       "</div>"
      ],
      "text/plain": [
       "         id             title  imdbID           spanishTitle  \\\n",
       "9395  50800    The Messengers  425430         The Messengers   \n",
       "1333   1472  City of Industry  118859      Ajuste de cuentas   \n",
       "6168   6543     The Holy Land  283387          The Holy Land   \n",
       "9        10         GoldenEye  113189              GoldenEye   \n",
       "253     264           L'enfer  109731  El infierno (L'enfer)   \n",
       "\n",
       "                                         imdbPictureURL  year  \\\n",
       "9395  http://ia.media-imdb.com/images/M/MV5BMTMxMjMz...  2007   \n",
       "1333  http://ia.media-imdb.com/images/M/MV5BMjA2MjI0...  1997   \n",
       "6168  http://ia.media-imdb.com/images/M/MV5BMjE5NzMw...  2001   \n",
       "9     http://ia.media-imdb.com/images/M/MV5BNTE1OTEx...  1995   \n",
       "253   http://ia.media-imdb.com/images/M/MV5BMTc2OTI1...  1994   \n",
       "\n",
       "                  rtID rtAllCriticsRating rtAllCriticsNumReviews  \\\n",
       "9395    the_messengers                3.7                     83   \n",
       "1333  city_of_industry                5.2                     13   \n",
       "6168         holy_land                5.8                     54   \n",
       "9            goldeneye                6.8                     41   \n",
       "253     1059177-lenfer                7.9                      8   \n",
       "\n",
       "     rtAllCriticsNumFresh  ... rtAllCriticsScore rtTopCriticsRating  \\\n",
       "9395                   10  ...                12                3.6   \n",
       "1333                    6  ...                46                4.7   \n",
       "6168                   28  ...                51                5.8   \n",
       "9                      33  ...                80                6.2   \n",
       "253                     8  ...               100                  0   \n",
       "\n",
       "     rtTopCriticsNumReviews rtTopCriticsNumFresh rtTopCriticsNumRotten  \\\n",
       "9395                     19                    1                    18   \n",
       "1333                      6                    1                     5   \n",
       "6168                     19                   10                     9   \n",
       "9                        11                    7                     4   \n",
       "253                       1                    1                     0   \n",
       "\n",
       "     rtTopCriticsScore rtAudienceRating rtAudienceNumRatings rtAudienceScore  \\\n",
       "9395                 5              3.1               129304              48   \n",
       "1333                16              2.9                  791              31   \n",
       "6168                52              3.6                  173              68   \n",
       "9                   63              3.4                28260              78   \n",
       "253                100              3.5                  421              67   \n",
       "\n",
       "                                           rtPictureURL  \n",
       "9395  http://content6.flixster.com/movie/10/89/27/10...  \n",
       "1333  http://content8.flixster.com/movie/27/54/27549...  \n",
       "6168  http://content8.flixster.com/movie/10/88/43/10...  \n",
       "9     http://content9.flixster.com/movie/26/66/26669...  \n",
       "253   http://content8.flixster.com/movie/10/88/73/10...  \n",
       "\n",
       "[5 rows x 21 columns]"
      ]
     },
     "execution_count": 4,
     "metadata": {},
     "output_type": "execute_result"
    }
   ],
   "source": [
    "# таблица атрибутов фильмов \n",
    "movies = pd.read_csv('data/movies.dat', sep='\\t', encoding='iso-8859-1')\n",
    "movies.sample(5)  # случайная выборка из 5 записей (фильмов)"
   ]
  },
  {
   "cell_type": "markdown",
   "metadata": {},
   "source": [
    "***\n",
    "## <a id='toc1_3_'></a>[__Кодирование фильмов и зрителей__](#toc0_)"
   ]
  },
  {
   "cell_type": "code",
   "execution_count": 5,
   "metadata": {},
   "outputs": [],
   "source": [
    "# оставим фильмы, которые имеют хотя бы одну зрительскую оценку \n",
    "movies = movies[movies.id.isin(rates.movieID)]"
   ]
  },
  {
   "cell_type": "code",
   "execution_count": 6,
   "metadata": {},
   "outputs": [
    {
     "data": {
      "text/plain": [
       "(10109, 21)"
      ]
     },
     "execution_count": 6,
     "metadata": {},
     "output_type": "execute_result"
    }
   ],
   "source": [
    "# всего таких фильмов 10109\n",
    "movies.shape"
   ]
  },
  {
   "cell_type": "markdown",
   "metadata": {},
   "source": [
    "Закодируем зрителей в таблице оценок и согласованно, т.е. общим кодировщиком, — фильмы в таблице зрителей и таблице фильмов: "
   ]
  },
  {
   "cell_type": "markdown",
   "metadata": {},
   "source": [
    "[__sklearn.preprocessing.LabelEncoder__](https://scikit-learn.org/stable/modules/generated/sklearn.preprocessing.LabelEncoder.html#sklearn-preprocessing-labelencoder)\n",
    "\n",
    "> Encode target labels with value between 0 and n_classes-1.<br>\n",
    "This transformer should be used to encode target values."
   ]
  },
  {
   "cell_type": "code",
   "execution_count": 7,
   "metadata": {},
   "outputs": [],
   "source": [
    "user_enc, movies_enc = LabelEncoder(), LabelEncoder()"
   ]
  },
  {
   "cell_type": "code",
   "execution_count": 8,
   "metadata": {},
   "outputs": [],
   "source": [
    "rates.userID = user_enc.fit_transform(rates.userID)\n",
    "rates.movieID = movies_enc.fit_transform(rates.movieID)\n",
    "movies.id = movies_enc.transform(movies.id)"
   ]
  },
  {
   "cell_type": "code",
   "execution_count": 9,
   "metadata": {},
   "outputs": [
    {
     "data": {
      "text/html": [
       "<div>\n",
       "<style scoped>\n",
       "    .dataframe tbody tr th:only-of-type {\n",
       "        vertical-align: middle;\n",
       "    }\n",
       "\n",
       "    .dataframe tbody tr th {\n",
       "        vertical-align: top;\n",
       "    }\n",
       "\n",
       "    .dataframe thead th {\n",
       "        text-align: right;\n",
       "    }\n",
       "</style>\n",
       "<table border=\"1\" class=\"dataframe\">\n",
       "  <thead>\n",
       "    <tr style=\"text-align: right;\">\n",
       "      <th></th>\n",
       "      <th>userID</th>\n",
       "      <th>movieID</th>\n",
       "      <th>rating</th>\n",
       "      <th>date_day</th>\n",
       "      <th>date_month</th>\n",
       "      <th>date_year</th>\n",
       "      <th>date_hour</th>\n",
       "      <th>date_minute</th>\n",
       "      <th>date_second</th>\n",
       "    </tr>\n",
       "  </thead>\n",
       "  <tbody>\n",
       "    <tr>\n",
       "      <th>0</th>\n",
       "      <td>0</td>\n",
       "      <td>2</td>\n",
       "      <td>1.0</td>\n",
       "      <td>29</td>\n",
       "      <td>10</td>\n",
       "      <td>2006</td>\n",
       "      <td>23</td>\n",
       "      <td>17</td>\n",
       "      <td>16</td>\n",
       "    </tr>\n",
       "    <tr>\n",
       "      <th>1</th>\n",
       "      <td>0</td>\n",
       "      <td>31</td>\n",
       "      <td>4.5</td>\n",
       "      <td>29</td>\n",
       "      <td>10</td>\n",
       "      <td>2006</td>\n",
       "      <td>23</td>\n",
       "      <td>23</td>\n",
       "      <td>44</td>\n",
       "    </tr>\n",
       "    <tr>\n",
       "      <th>2</th>\n",
       "      <td>0</td>\n",
       "      <td>105</td>\n",
       "      <td>4.0</td>\n",
       "      <td>29</td>\n",
       "      <td>10</td>\n",
       "      <td>2006</td>\n",
       "      <td>23</td>\n",
       "      <td>30</td>\n",
       "      <td>8</td>\n",
       "    </tr>\n",
       "    <tr>\n",
       "      <th>3</th>\n",
       "      <td>0</td>\n",
       "      <td>151</td>\n",
       "      <td>2.0</td>\n",
       "      <td>29</td>\n",
       "      <td>10</td>\n",
       "      <td>2006</td>\n",
       "      <td>23</td>\n",
       "      <td>16</td>\n",
       "      <td>52</td>\n",
       "    </tr>\n",
       "    <tr>\n",
       "      <th>4</th>\n",
       "      <td>0</td>\n",
       "      <td>154</td>\n",
       "      <td>4.0</td>\n",
       "      <td>29</td>\n",
       "      <td>10</td>\n",
       "      <td>2006</td>\n",
       "      <td>23</td>\n",
       "      <td>29</td>\n",
       "      <td>30</td>\n",
       "    </tr>\n",
       "    <tr>\n",
       "      <th>...</th>\n",
       "      <td>...</td>\n",
       "      <td>...</td>\n",
       "      <td>...</td>\n",
       "      <td>...</td>\n",
       "      <td>...</td>\n",
       "      <td>...</td>\n",
       "      <td>...</td>\n",
       "      <td>...</td>\n",
       "      <td>...</td>\n",
       "    </tr>\n",
       "    <tr>\n",
       "      <th>855593</th>\n",
       "      <td>2112</td>\n",
       "      <td>9023</td>\n",
       "      <td>4.0</td>\n",
       "      <td>3</td>\n",
       "      <td>12</td>\n",
       "      <td>2007</td>\n",
       "      <td>3</td>\n",
       "      <td>5</td>\n",
       "      <td>38</td>\n",
       "    </tr>\n",
       "    <tr>\n",
       "      <th>855594</th>\n",
       "      <td>2112</td>\n",
       "      <td>9111</td>\n",
       "      <td>4.0</td>\n",
       "      <td>3</td>\n",
       "      <td>12</td>\n",
       "      <td>2007</td>\n",
       "      <td>2</td>\n",
       "      <td>56</td>\n",
       "      <td>44</td>\n",
       "    </tr>\n",
       "    <tr>\n",
       "      <th>855595</th>\n",
       "      <td>2112</td>\n",
       "      <td>9211</td>\n",
       "      <td>4.5</td>\n",
       "      <td>3</td>\n",
       "      <td>12</td>\n",
       "      <td>2007</td>\n",
       "      <td>2</td>\n",
       "      <td>53</td>\n",
       "      <td>46</td>\n",
       "    </tr>\n",
       "    <tr>\n",
       "      <th>855596</th>\n",
       "      <td>2112</td>\n",
       "      <td>9900</td>\n",
       "      <td>5.0</td>\n",
       "      <td>10</td>\n",
       "      <td>10</td>\n",
       "      <td>2008</td>\n",
       "      <td>9</td>\n",
       "      <td>56</td>\n",
       "      <td>5</td>\n",
       "    </tr>\n",
       "    <tr>\n",
       "      <th>855597</th>\n",
       "      <td>2112</td>\n",
       "      <td>9957</td>\n",
       "      <td>4.5</td>\n",
       "      <td>10</td>\n",
       "      <td>10</td>\n",
       "      <td>2008</td>\n",
       "      <td>9</td>\n",
       "      <td>58</td>\n",
       "      <td>10</td>\n",
       "    </tr>\n",
       "  </tbody>\n",
       "</table>\n",
       "<p>855598 rows × 9 columns</p>\n",
       "</div>"
      ],
      "text/plain": [
       "        userID  movieID  rating  date_day  date_month  date_year  date_hour  \\\n",
       "0            0        2     1.0        29          10       2006         23   \n",
       "1            0       31     4.5        29          10       2006         23   \n",
       "2            0      105     4.0        29          10       2006         23   \n",
       "3            0      151     2.0        29          10       2006         23   \n",
       "4            0      154     4.0        29          10       2006         23   \n",
       "...        ...      ...     ...       ...         ...        ...        ...   \n",
       "855593    2112     9023     4.0         3          12       2007          3   \n",
       "855594    2112     9111     4.0         3          12       2007          2   \n",
       "855595    2112     9211     4.5         3          12       2007          2   \n",
       "855596    2112     9900     5.0        10          10       2008          9   \n",
       "855597    2112     9957     4.5        10          10       2008          9   \n",
       "\n",
       "        date_minute  date_second  \n",
       "0                17           16  \n",
       "1                23           44  \n",
       "2                30            8  \n",
       "3                16           52  \n",
       "4                29           30  \n",
       "...             ...          ...  \n",
       "855593            5           38  \n",
       "855594           56           44  \n",
       "855595           53           46  \n",
       "855596           56            5  \n",
       "855597           58           10  \n",
       "\n",
       "[855598 rows x 9 columns]"
      ]
     },
     "execution_count": 9,
     "metadata": {},
     "output_type": "execute_result"
    }
   ],
   "source": [
    "rates"
   ]
  },
  {
   "cell_type": "markdown",
   "metadata": {},
   "source": [
    "***\n",
    "## <a id='toc1_4_'></a>[__Матрица рейтингов__](#toc0_)"
   ]
  },
  {
   "cell_type": "markdown",
   "metadata": {},
   "source": [
    "Возьмем из таблицы рейтингов `rates` только нужную информацию — метки пользователей, метки фильмов и рейтинги фильмов, выставленные пользователями фильмам — и сделаем из нее разреженную таблицу, в которой на пересечении строк-пользователей и столбцов-фильмов стоят соответствующие рейтинги. Если пользователь не оценивал фильм, то его оценка 0."
   ]
  },
  {
   "cell_type": "markdown",
   "metadata": {},
   "source": [
    "[__scipy.sparse.coo_matrix__](https://docs.scipy.org/doc/scipy/reference/generated/scipy.sparse.coo_matrix.html#scipy-sparse-coo-matrix)\n",
    "\n",
    "> A sparse matrix in COOrdinate format."
   ]
  },
  {
   "cell_type": "code",
   "execution_count": 10,
   "metadata": {},
   "outputs": [
    {
     "data": {
      "text/plain": [
       "<2113x10109 sparse matrix of type '<class 'numpy.float64'>'\n",
       "\twith 855598 stored elements in COOrdinate format>"
      ]
     },
     "execution_count": 10,
     "metadata": {},
     "output_type": "execute_result"
    }
   ],
   "source": [
    "R = coo_matrix((rates.rating, (rates.userID, rates.movieID)))\n",
    "R  # 2113 зрителей x 10109 фильмов"
   ]
  },
  {
   "cell_type": "code",
   "execution_count": 11,
   "metadata": {},
   "outputs": [
    {
     "data": {
      "text/plain": [
       "scipy.sparse._coo.coo_matrix"
      ]
     },
     "execution_count": 11,
     "metadata": {},
     "output_type": "execute_result"
    }
   ],
   "source": [
    "type(R)"
   ]
  },
  {
   "cell_type": "markdown",
   "metadata": {},
   "source": [
    "Конвертируем разреженную матрицу `R` в сжатый формат:"
   ]
  },
  {
   "cell_type": "markdown",
   "metadata": {},
   "source": [
    "[__scipy.sparse.csr_matrix__](https://docs.scipy.org/doc/scipy/reference/generated/scipy.sparse.csr_matrix.html#scipy-sparse-csr-matrix)\n",
    "\n",
    "> Convert matrix to Compressed Sparse Row format."
   ]
  },
  {
   "cell_type": "code",
   "execution_count": 12,
   "metadata": {},
   "outputs": [
    {
     "data": {
      "text/plain": [
       "scipy.sparse._csr.csr_matrix"
      ]
     },
     "execution_count": 12,
     "metadata": {},
     "output_type": "execute_result"
    }
   ],
   "source": [
    "R = R.tocsr()\n",
    "type(R)"
   ]
  },
  {
   "cell_type": "markdown",
   "metadata": {},
   "source": [
    "Вектор оценок пользователя можно получить обращением по индексу. Например, пользователь, закодированный нулем, выставил оценки 55 фильмам: "
   ]
  },
  {
   "cell_type": "code",
   "execution_count": 13,
   "metadata": {},
   "outputs": [
    {
     "data": {
      "text/plain": [
       "<1x10109 sparse matrix of type '<class 'numpy.float64'>'\n",
       "\twith 55 stored elements in Compressed Sparse Row format>"
      ]
     },
     "execution_count": 13,
     "metadata": {},
     "output_type": "execute_result"
    }
   ],
   "source": [
    "R[0]"
   ]
  },
  {
   "cell_type": "markdown",
   "metadata": {},
   "source": [
    "Проверим это:"
   ]
  },
  {
   "cell_type": "code",
   "execution_count": 14,
   "metadata": {},
   "outputs": [
    {
     "data": {
      "text/plain": [
       "55"
      ]
     },
     "execution_count": 14,
     "metadata": {},
     "output_type": "execute_result"
    }
   ],
   "source": [
    "rates.query('userID == 0').rating.size"
   ]
  },
  {
   "cell_type": "markdown",
   "metadata": {},
   "source": [
    "> with 55 stored elements"
   ]
  },
  {
   "cell_type": "markdown",
   "metadata": {},
   "source": [
    "***\n",
    "## <a id='toc1_5_'></a>[__Похожесть между зрителями__](#toc0_)"
   ]
  },
  {
   "cell_type": "markdown",
   "metadata": {},
   "source": [
    "[__sklearn.metrics.pairwise.cosine_similarity__](https://scikit-learn.org/stable/modules/generated/sklearn.metrics.pairwise.cosine_similarity.html#sklearn-metrics-pairwise-cosine-similarity)\n",
    "\n",
    "> Compute cosine similarity between samples in X and Y.<br>\n",
    "Cosine similarity, or the cosine kernel, computes similarity as the normalized dot product of X and Y:<br>\n",
    "$\\huge K(X, Y) = \\frac{<X, Y>}{||X||\\cdot||Y||}$"
   ]
  },
  {
   "cell_type": "markdown",
   "metadata": {},
   "source": [
    "Это косинус угла между векторами, выраженный через их скалярное произведение. Соответственно, чем более похожи векторы, т.е. чем меньше угол между ними, тем ближе их косинусная похожесть к единице."
   ]
  },
  {
   "cell_type": "code",
   "execution_count": 15,
   "metadata": {},
   "outputs": [],
   "source": [
    "def cosineSimilarity(u, v, thres=3):\n",
    "    \"\"\"\n",
    "    Похожесть между парой зрителей на фильмах, размеченных обоими.\n",
    "    Если число таких фильмов меньше thres, похожесть считать нулевой.\n",
    "    \"\"\"\n",
    "    # произведение отлично от нуля, если оба множителя ненулевые\n",
    "    indices = u.multiply(v).nonzero()[1]\n",
    "    if indices.size < thres:\n",
    "        return 0\n",
    "    return cosine_similarity(u[:,indices], v[:,indices]).item()"
   ]
  },
  {
   "cell_type": "code",
   "execution_count": 16,
   "metadata": {},
   "outputs": [
    {
     "data": {
      "text/plain": [
       "0.9228878934866824"
      ]
     },
     "execution_count": 16,
     "metadata": {},
     "output_type": "execute_result"
    }
   ],
   "source": [
    "cosineSimilarity(R[146], R[239])  # пример"
   ]
  },
  {
   "cell_type": "code",
   "execution_count": 17,
   "metadata": {},
   "outputs": [],
   "source": [
    "def similar_users(index, R, n_neigbors):\n",
    "    \"\"\"\n",
    "    Функция возвращает кортеж:\n",
    "    (0) Индексы n_neigbors зрителей, наиболее косинусно похожих на зрителя\n",
    "        с индексом index в матрице рейтингов R, включая его самого.\n",
    "    (1) Косинусные схожести, соответствующие зрителям-соседям из (0).\n",
    "    \"\"\"\n",
    "    # попарные косинусные похожести пользователя index \n",
    "    # со всеми пользователями из R, включая его самого\n",
    "    similar = np.array([cosineSimilarity(R[index], user) for user in R])\n",
    "    \n",
    "    # первые n_neigbors индексов, сортирующие по убыванию косинусной \n",
    "    # похожести - от более похожих на пользователя index к менее\n",
    "    indices = np.argsort(-similar)[:n_neigbors]\n",
    "    \n",
    "    return indices, similar[indices]"
   ]
  },
  {
   "cell_type": "code",
   "execution_count": 18,
   "metadata": {},
   "outputs": [
    {
     "data": {
      "text/plain": [
       "array([  42,  281,  633,  724,  815,    2,  620,  650, 1692, 1506],\n",
       "      dtype=int64)"
      ]
     },
     "execution_count": 18,
     "metadata": {},
     "output_type": "execute_result"
    }
   ],
   "source": [
    "similar_users(42, R, n_neigbors=10)[0]  # пример"
   ]
  },
  {
   "cell_type": "markdown",
   "metadata": {},
   "source": [
    "Первым в списке наиболее похожих, разумеется, стоит сам пользователь — его косинусная похожесть на самого себя ровно единица."
   ]
  },
  {
   "cell_type": "markdown",
   "metadata": {},
   "source": [
    "***\n",
    "## <a id='toc1_6_'></a>[__Рекомендация фильмов с наивысшим предсказанным рейтингом__](#toc0_)"
   ]
  },
  {
   "cell_type": "markdown",
   "metadata": {},
   "source": [
    "Составим рекомендацию из 5 фильмов для пользователя с индексом 20 по 30 наиболее похожим на него с учетом следующих условий:\n",
    "\n",
    "* сам пользователь учитываться не должен;\n",
    "* среди рекомендуемой пятерки не должно быть ранее просмотренных фильмов."
   ]
  },
  {
   "cell_type": "markdown",
   "metadata": {},
   "source": [
    "Для выполнения первого условия нужно взять 31 наиболее косинусно похожих пользователей и отбросить первого — самого себя:"
   ]
  },
  {
   "cell_type": "code",
   "execution_count": 19,
   "metadata": {},
   "outputs": [],
   "source": [
    "exclude_self = lambda arr: arr[1:]\n",
    "indices, similar = map(exclude_self, similar_users(20, R, n_neigbors=31))"
   ]
  },
  {
   "cell_type": "markdown",
   "metadata": {},
   "source": [
    "Извлечем из матрицы рейтингов оценки 30 ближайших пользователей:"
   ]
  },
  {
   "cell_type": "code",
   "execution_count": 20,
   "metadata": {},
   "outputs": [
    {
     "data": {
      "text/plain": [
       "(30, 10109)"
      ]
     },
     "execution_count": 20,
     "metadata": {},
     "output_type": "execute_result"
    }
   ],
   "source": [
    "neighbors_rates = R[indices].toarray()\n",
    "neighbors_rates.shape"
   ]
  },
  {
   "cell_type": "markdown",
   "metadata": {},
   "source": [
    "Для получения вектора предсказания нужно умножить оценки ближайших пользователей на соответствующие косинусные похожести (веса) и нормировать суммой весов. Иными словами, предсказание рейтинга, который пользователь, вероятно, поставил бы некоторому фильму, есть средневзвешенная оценка этого фильма некоторого количества наиболее похожих на него пользователей:"
   ]
  },
  {
   "cell_type": "code",
   "execution_count": 21,
   "metadata": {},
   "outputs": [
    {
     "data": {
      "text/plain": [
       "(10109,)"
      ]
     },
     "execution_count": 21,
     "metadata": {},
     "output_type": "execute_result"
    }
   ],
   "source": [
    "predictions = neighbors_rates.T @ similar / similar.sum()\n",
    "predictions.shape"
   ]
  },
  {
   "cell_type": "markdown",
   "metadata": {},
   "source": [
    "Вытащим из матрицы рейтингов фильмы, которые разметил 20-ый пользователь, и обнулим в векторе предсказаний соответствующие оценки — оценки фильмам, которые 20-ый пользователь уже видел и оценил сам: "
   ]
  },
  {
   "cell_type": "code",
   "execution_count": 22,
   "metadata": {},
   "outputs": [],
   "source": [
    "true_rates = R[20].toarray()\n",
    "\n",
    "# зануляем предсказания для фильмов, которые пользователь \n",
    "# уже видел - эти фильмы не участвуют в отборе\n",
    "predictions[np.nonzero(true_rates)[1]] = 0"
   ]
  },
  {
   "cell_type": "markdown",
   "metadata": {},
   "source": [
    "Найдем первые 5 индексов, которые сортируют вектор предсказаний по убыванию оценки — это и есть идентификаторы пяти фильмов, которые и составляют нашу рекомендацию:  "
   ]
  },
  {
   "cell_type": "code",
   "execution_count": 23,
   "metadata": {},
   "outputs": [
    {
     "data": {
      "text/plain": [
       "array([2614,  306,  343, 5573, 6720], dtype=int64)"
      ]
     },
     "execution_count": 23,
     "metadata": {},
     "output_type": "execute_result"
    }
   ],
   "source": [
    "top = 5\n",
    "np.argsort(-predictions)[:top]"
   ]
  },
  {
   "cell_type": "markdown",
   "metadata": {},
   "source": [
    "***"
   ]
  }
 ],
 "metadata": {
  "kernelspec": {
   "display_name": "Python 3",
   "language": "python",
   "name": "python3"
  },
  "language_info": {
   "codemirror_mode": {
    "name": "ipython",
    "version": 3
   },
   "file_extension": ".py",
   "mimetype": "text/x-python",
   "name": "python",
   "nbconvert_exporter": "python",
   "pygments_lexer": "ipython3",
   "version": "3.11.4"
  },
  "orig_nbformat": 4
 },
 "nbformat": 4,
 "nbformat_minor": 2
}
